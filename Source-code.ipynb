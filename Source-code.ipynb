{
 "cells": [
  {
   "cell_type": "code",
   "execution_count": 1,
   "metadata": {},
   "outputs": [],
   "source": [
    "import pandas as pd \n",
    "import numpy as np \n",
    "data = pd.read_csv(\"food_truck_data.txt\")"
   ]
  },
  {
   "cell_type": "code",
   "execution_count": null,
   "metadata": {},
   "outputs": [],
   "source": [
    "import matplotlib.pyplot as plt \n",
    "plt.style.use('ggplot')\n",
    "%matplotlib inline"
   ]
  },
  {
   "cell_type": "code",
   "execution_count": 2,
   "metadata": {},
   "outputs": [
    {
     "output_type": "execute_result",
     "data": {
      "text/plain": "                       address direction       street     crossStreet  \\\n0   GARRISON BLVD & WABASH AVE       E/B  Garrison \\n      Wabash Ave   \n1       HILLEN ST & FORREST ST       W/B    Hillen \\n      Forrest St   \n2  EDMONDSON AVE & N ATHOL AVE       E/B   Edmonson\\n  Woodbridge Ave   \n3       YORK RD & GITTINGS AVE       S/B   York Rd \\n     Gitting Ave   \n4    RUSSELL ST & W HAMBURG ST       S/B    Russell\\n      Hamburg St   \n\n                   intersection               Location 1  \\\n0      Garrison \\n & Wabash Ave  (39.341209, -76.683117)   \n1        Hillen \\n & Forrest St   (39.29686, -76.605532)   \n2  Edmonson\\n  & Woodbridge Ave  (39.293453, -76.689391)   \n3      York Rd \\n & Gitting Ave  (39.370493, -76.609812)   \n4       Russell\\n  & Hamburg St  (39.279819, -76.623911)   \n\n   2010 Census Neighborhoods  2010 Census Wards Precincts  Zip Codes  \n0                        252                           63      27295  \n1                        179                          108      13645  \n2                        213                           75      27950  \n3                         37                          270      14009  \n4                        250                          178      27953  ",
      "text/html": "<div>\n<style scoped>\n    .dataframe tbody tr th:only-of-type {\n        vertical-align: middle;\n    }\n\n    .dataframe tbody tr th {\n        vertical-align: top;\n    }\n\n    .dataframe thead th {\n        text-align: right;\n    }\n</style>\n<table border=\"1\" class=\"dataframe\">\n  <thead>\n    <tr style=\"text-align: right;\">\n      <th></th>\n      <th>address</th>\n      <th>direction</th>\n      <th>street</th>\n      <th>crossStreet</th>\n      <th>intersection</th>\n      <th>Location 1</th>\n      <th>2010 Census Neighborhoods</th>\n      <th>2010 Census Wards Precincts</th>\n      <th>Zip Codes</th>\n    </tr>\n  </thead>\n  <tbody>\n    <tr>\n      <th>0</th>\n      <td>GARRISON BLVD &amp; WABASH AVE</td>\n      <td>E/B</td>\n      <td>Garrison \\n</td>\n      <td>Wabash Ave</td>\n      <td>Garrison \\n &amp; Wabash Ave</td>\n      <td>(39.341209, -76.683117)</td>\n      <td>252</td>\n      <td>63</td>\n      <td>27295</td>\n    </tr>\n    <tr>\n      <th>1</th>\n      <td>HILLEN ST &amp; FORREST ST</td>\n      <td>W/B</td>\n      <td>Hillen \\n</td>\n      <td>Forrest St</td>\n      <td>Hillen \\n &amp; Forrest St</td>\n      <td>(39.29686, -76.605532)</td>\n      <td>179</td>\n      <td>108</td>\n      <td>13645</td>\n    </tr>\n    <tr>\n      <th>2</th>\n      <td>EDMONDSON AVE &amp; N ATHOL AVE</td>\n      <td>E/B</td>\n      <td>Edmonson\\n</td>\n      <td>Woodbridge Ave</td>\n      <td>Edmonson\\n  &amp; Woodbridge Ave</td>\n      <td>(39.293453, -76.689391)</td>\n      <td>213</td>\n      <td>75</td>\n      <td>27950</td>\n    </tr>\n    <tr>\n      <th>3</th>\n      <td>YORK RD &amp; GITTINGS AVE</td>\n      <td>S/B</td>\n      <td>York Rd \\n</td>\n      <td>Gitting Ave</td>\n      <td>York Rd \\n &amp; Gitting Ave</td>\n      <td>(39.370493, -76.609812)</td>\n      <td>37</td>\n      <td>270</td>\n      <td>14009</td>\n    </tr>\n    <tr>\n      <th>4</th>\n      <td>RUSSELL ST &amp; W HAMBURG ST</td>\n      <td>S/B</td>\n      <td>Russell\\n</td>\n      <td>Hamburg St</td>\n      <td>Russell\\n  &amp; Hamburg St</td>\n      <td>(39.279819, -76.623911)</td>\n      <td>250</td>\n      <td>178</td>\n      <td>27953</td>\n    </tr>\n  </tbody>\n</table>\n</div>"
     },
     "metadata": {},
     "execution_count": 2
    }
   ],
   "source": [
    "data.head()\n",
    "data.info()"
   ]
  },
  {
   "cell_type": "code",
   "execution_count": 4,
   "metadata": {},
   "outputs": [
    {
     "output_type": "error",
     "ename": "NameError",
     "evalue": "name 'sns' is not defined",
     "traceback": [
      "\u001b[1;31m---------------------------------------------------------------------------\u001b[0m",
      "\u001b[1;31mNameError\u001b[0m                                 Traceback (most recent call last)",
      "\u001b[1;32m<ipython-input-4-d0bb4feef2be>\u001b[0m in \u001b[0;36m<module>\u001b[1;34m\u001b[0m\n\u001b[1;32m----> 1\u001b[1;33m \u001b[0max\u001b[0m \u001b[1;33m=\u001b[0m \u001b[0msns\u001b[0m\u001b[1;33m.\u001b[0m\u001b[0mscatterplot\u001b[0m\u001b[1;33m(\u001b[0m\u001b[0mx\u001b[0m\u001b[1;33m=\u001b[0m\u001b[1;34m'Population'\u001b[0m\u001b[1;33m,\u001b[0m \u001b[0my\u001b[0m\u001b[1;33m=\u001b[0m\u001b[1;34m'Profit'\u001b[0m\u001b[1;33m,\u001b[0m \u001b[0mdata\u001b[0m\u001b[1;33m=\u001b[0m\u001b[0mdata\u001b[0m\u001b[1;33m)\u001b[0m\u001b[1;33m\u001b[0m\u001b[1;33m\u001b[0m\u001b[0m\n\u001b[0m\u001b[0;32m      2\u001b[0m \u001b[0max\u001b[0m\u001b[1;33m.\u001b[0m\u001b[0mset_title\u001b[0m\u001b[1;33m(\u001b[0m\u001b[1;34m\"Profit in $10000s vs City Population in 10000s\"\u001b[0m\u001b[1;33m)\u001b[0m\u001b[1;33m;\u001b[0m\u001b[1;33m\u001b[0m\u001b[1;33m\u001b[0m\u001b[0m\n",
      "\u001b[1;31mNameError\u001b[0m: name 'sns' is not defined"
     ]
    }
   ],
   "source": [
    "ax = sns.scatterplot(x='Population', y='Profit', data=data)\n",
    "ax.set_title(\"Profit in $10000s vs City Population in 10000s\");"
   ]
  },
  {
   "cell_type": "code",
   "execution_count": null,
   "metadata": {},
   "outputs": [],
   "source": [
    "def cost_function(X, y, theta):\n",
    "    m = len(y)\n",
    "    y_pred = X.dot(theta)\n",
    "    error = (y_pred - y) ** 2\n",
    "    \n",
    "    return 1 / (2 * m) * np.sum(error)"
   ]
  },
  {
   "cell_type": "code",
   "execution_count": null,
   "metadata": {},
   "outputs": [],
   "source": [
    "def gradient_descent(X, y, theta, alpha, iterations): \n",
    "    m = len(y)\n",
    "    costs = []\n",
    "    for i in range(iterations):\n",
    "        y_pred = X.dot(theta)\n",
    "        error = np.dot(X.transpose(), (y_pred - y))\n",
    "        theta -= alpha * 1/m * error\n",
    "        costs.append(cost_function(X, y, theta))\n",
    "        \n",
    "    return theta, costs"
   ]
  },
  {
   "cell_type": "code",
   "execution_count": null,
   "metadata": {},
   "outputs": [],
   "source": [
    "theta, costs = gradient_descent(X, y, theta, alpha=0.01, iterations=1000)\n",
    "\n",
    "print(\"h(x) = {} + {}x1\".format(str(round(theta[0, 0], 2)),\n",
    "                                str(round(theta[1, 0], 2))))"
   ]
  },
  {
   "cell_type": "code",
   "execution_count": null,
   "metadata": {},
   "outputs": [],
   "source": [
    "from mpl_toolkits.mplot3d import Axes3D"
   ]
  },
  {
   "cell_type": "code",
   "execution_count": null,
   "metadata": {},
   "outputs": [],
   "source": [
    "theta_0 = np.linspace(-10,10,100)\n",
    "theta_1 = np.linspace(-1,4,100)\n",
    "\n",
    "cost_values = np.zeros((len(theta_0), len(theta_1)))\n",
    "\n",
    "for i in range(len(theta_0)):\n",
    "    for j in range(len(theta_1)):\n",
    "        t = np.array([theta_0[i], theta_1[j]])\n",
    "        cost_values[i, j] = cost_function(X, y, t)"
   ]
  },
  {
   "cell_type": "code",
   "execution_count": null,
   "metadata": {},
   "outputs": [],
   "source": [
    "fig = plt.figure(figsize = (12, 8))\n",
    "ax = fig.gca(projection = '3d')\n",
    "\n",
    "surf = ax.plot_surface(theta_0, theta_1, cost_values, cmap = \"viridis\", linewidth = 0.2)\n",
    "fig.colorbar(surf, shrink=0.5, aspect=5)\n",
    "\n",
    "plt.xlabel(\"$\\Theta_0$\")\n",
    "plt.ylabel(\"$\\Theta_1$\")\n",
    "ax.set_zlabel(\"$J(\\Theta)$\")\n",
    "ax.set_title(\"Cost Surface\")\n",
    "ax.view_init(30,330)"
   ]
  },
  {
   "cell_type": "code",
   "execution_count": null,
   "metadata": {},
   "outputs": [],
   "source": [
    "plt.plot(costs)\n",
    "plt.xlabel(\"Iterations\")\n",
    "plt.ylabel(\"$J(\\Theta)$\")\n",
    "plt.title(\"Values of Cost Function over iterations of Gradient Descent\");"
   ]
  },
  {
   "cell_type": "code",
   "execution_count": null,
   "metadata": {},
   "outputs": [],
   "source": [
    "theta.shape\n",
    "theta"
   ]
  },
  {
   "cell_type": "code",
   "execution_count": null,
   "metadata": {},
   "outputs": [],
   "source": [
    "theta = np.squeeze(theta)\n",
    "sns.scatterplot(x = \"Population\", y= \"Profit\", data = data)\n",
    "\n",
    "x_value=[x for x in range(5, 25)]\n",
    "y_value=[(x * theta[1] + theta[0]) for x in x_value]\n",
    "sns.lineplot(x_value,y_value)\n",
    "\n",
    "plt.xlabel(\"Population in 10000s\")\n",
    "plt.ylabel(\"Profit in $10,000s\")\n",
    "plt.title(\"Linear Regression Fit\");"
   ]
  },
  {
   "cell_type": "code",
   "execution_count": null,
   "metadata": {},
   "outputs": [],
   "source": [
    "def predict(x, theta):\n",
    "    y_pred = np.dot(theta.transpose(), x)\n",
    "    return y_pred"
   ]
  },
  {
   "cell_type": "code",
   "execution_count": null,
   "metadata": {},
   "outputs": [],
   "source": [
    "y_pred_1 = predict(np.array([1, 4]),theta) * 10000\n",
    "print(\"For a population of 40,000, the model predicts a profit of $\" + str(round(y_pred_1, 0)))"
   ]
  },
  {
   "cell_type": "code",
   "execution_count": null,
   "metadata": {},
   "outputs": [],
   "source": [
    "y_pred_2 = predict(np.array([1, 8.3]), theta) * 10000\n",
    "print(\"For a population of 83,000, the model predicts a profit of $\"+str(round(y_pred_2, 0)))"
   ]
  }
 ],
 "metadata": {
  "language_info": {
   "codemirror_mode": {
    "name": "ipython",
    "version": 3
   },
   "file_extension": ".py",
   "mimetype": "text/x-python",
   "name": "python",
   "nbconvert_exporter": "python",
   "pygments_lexer": "ipython3",
   "version": "3.7.7-final"
  },
  "orig_nbformat": 2,
  "kernelspec": {
   "name": "python37764bitmyenvconda7fb3c94d22264239b0bb50421cfc5440",
   "display_name": "Python 3.7.7 64-bit ('myenv': conda)"
  }
 },
 "nbformat": 4,
 "nbformat_minor": 2
}